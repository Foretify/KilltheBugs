{
 "cells": [
  {
   "cell_type": "code",
   "execution_count": 1,
   "id": "faa40d48",
   "metadata": {},
   "outputs": [],
   "source": [
    "from keras_preprocessing.image import ImageDataGenerator\n",
    "from keras_preprocessing import image"
   ]
  },
  {
   "cell_type": "code",
   "execution_count": 2,
   "id": "28bc302c",
   "metadata": {},
   "outputs": [],
   "source": [
    "import tensorflow as tf\n",
    "import matplotlib.pyplot as plt\n",
    "import cv2\n",
    "import os\n",
    "import numpy as np\n",
    "import pandas as pd"
   ]
  },
  {
   "cell_type": "code",
   "execution_count": 3,
   "id": "ba0d56d4",
   "metadata": {},
   "outputs": [],
   "source": [
    "train = ImageDataGenerator(rescale = 1/255)\n",
    "validation = ImageDataGenerator(rescale = 1/255)"
   ]
  },
  {
   "cell_type": "code",
   "execution_count": 4,
   "id": "61369d9d",
   "metadata": {},
   "outputs": [
    {
     "name": "stdout",
     "output_type": "stream",
     "text": [
      "Found 15752 images belonging to 4 classes.\n",
      "Found 4202 images belonging to 4 classes.\n"
     ]
    }
   ],
   "source": [
    "train_dataset = train.flow_from_directory(r'D:\\AILA\\TrainingData\\AllDatasets\\train',\n",
    "                                         target_size = (29,29),\n",
    "                                          batch_size = 200\n",
    "                                         )\n",
    "\n",
    "validation_dataset = train.flow_from_directory(r'D:\\AILA\\TrainingData\\AllDatasets\\val',\n",
    "                                         target_size = (29,29),\n",
    "                                          batch_size = 3\n",
    "                                         )\n"
   ]
  },
  {
   "cell_type": "code",
   "execution_count": 5,
   "id": "b01027f3",
   "metadata": {},
   "outputs": [
    {
     "data": {
      "text/plain": [
       "{'Heavy': 0, 'Low': 1, 'Moderate': 2, 'Severe': 3}"
      ]
     },
     "execution_count": 5,
     "metadata": {},
     "output_type": "execute_result"
    }
   ],
   "source": [
    "train_dataset.class_indices"
   ]
  },
  {
   "cell_type": "code",
   "execution_count": 6,
   "id": "325928f8",
   "metadata": {},
   "outputs": [
    {
     "data": {
      "text/plain": [
       "array([0, 0, 0, ..., 3, 3, 3])"
      ]
     },
     "execution_count": 6,
     "metadata": {},
     "output_type": "execute_result"
    }
   ],
   "source": [
    "train_dataset.classes"
   ]
  },
  {
   "cell_type": "code",
   "execution_count": 7,
   "id": "e0913071",
   "metadata": {},
   "outputs": [],
   "source": [
    "model = tf.keras.models.Sequential([ tf.keras.layers.Conv2D(16,(3,3),activation = 'relu',input_shape = (29,29,3)),\n",
    "                                    tf.keras.layers.MaxPool2D(2,2),\n",
    "                                       #\n",
    "                                    tf.keras.layers.Conv2D(32,(3,3),activation = 'relu'),\n",
    "                                    tf.keras.layers.MaxPool2D(2,2),\n",
    "                                    #\n",
    "                                    tf.keras.layers.Conv2D(64,(3,3),activation = 'relu'),\n",
    "                                    \n",
    "                                    ##\n",
    "                                    tf.keras.layers.Flatten(),\n",
    "                                    ##\n",
    "                                    tf.keras.layers.Dense(512,activation='relu'),\n",
    "                                    ##\n",
    "                                    tf.keras.layers.Dense(1,activation='sigmoid')\n",
    "                                 ])\n",
    "                                                           \n",
    "                                                           \n"
   ]
  },
  {
   "cell_type": "code",
   "execution_count": 8,
   "id": "41d6e5ae",
   "metadata": {},
   "outputs": [],
   "source": [
    "model.compile(loss = 'binary_crossentropy',\n",
    "            optimizer = tf.keras.optimizers.RMSprop(learning_rate=0.1),\n",
    "            metrics=['accuracy'])"
   ]
  },
  {
   "cell_type": "code",
   "execution_count": 9,
   "id": "c4ec0da4",
   "metadata": {},
   "outputs": [
    {
     "name": "stdout",
     "output_type": "stream",
     "text": [
      "Epoch 1/50\n",
      "3/3 [==============================] - 5s 2s/step - loss: 150881.9688 - accuracy: 0.5142 - val_loss: 266.9868 - val_accuracy: 0.7500\n",
      "Epoch 2/50\n",
      "3/3 [==============================] - 3s 2s/step - loss: 116.6893 - accuracy: 0.5833 - val_loss: 0.6702 - val_accuracy: 0.7500\n",
      "Epoch 3/50\n",
      "3/3 [==============================] - 3s 2s/step - loss: 0.5988 - accuracy: 0.7500 - val_loss: 0.5630 - val_accuracy: 0.7500\n",
      "Epoch 4/50\n",
      "3/3 [==============================] - 4s 2s/step - loss: 0.5627 - accuracy: 0.7500 - val_loss: 0.5624 - val_accuracy: 0.7500\n",
      "Epoch 5/50\n",
      "3/3 [==============================] - 3s 2s/step - loss: 0.5623 - accuracy: 0.7500 - val_loss: 0.5623 - val_accuracy: 0.7500\n",
      "Epoch 6/50\n",
      "3/3 [==============================] - 3s 2s/step - loss: 0.5623 - accuracy: 0.7500 - val_loss: 0.5623 - val_accuracy: 0.7500\n",
      "Epoch 7/50\n",
      "3/3 [==============================] - 3s 2s/step - loss: 0.5623 - accuracy: 0.7500 - val_loss: 0.5623 - val_accuracy: 0.7500\n",
      "Epoch 8/50\n",
      "3/3 [==============================] - 3s 2s/step - loss: 0.5623 - accuracy: 0.7500 - val_loss: 0.5623 - val_accuracy: 0.7500\n",
      "Epoch 9/50\n",
      "3/3 [==============================] - 3s 2s/step - loss: 0.5623 - accuracy: 0.7500 - val_loss: 0.5623 - val_accuracy: 0.7500\n",
      "Epoch 10/50\n",
      "3/3 [==============================] - 3s 2s/step - loss: 0.5623 - accuracy: 0.7500 - val_loss: 0.5623 - val_accuracy: 0.7500\n",
      "Epoch 11/50\n",
      "3/3 [==============================] - 3s 2s/step - loss: 0.5623 - accuracy: 0.7500 - val_loss: 0.5623 - val_accuracy: 0.7500\n",
      "Epoch 12/50\n",
      "3/3 [==============================] - 3s 2s/step - loss: 0.5623 - accuracy: 0.7500 - val_loss: 0.5623 - val_accuracy: 0.7500\n",
      "Epoch 13/50\n",
      "3/3 [==============================] - 3s 2s/step - loss: 0.5623 - accuracy: 0.7500 - val_loss: 0.5623 - val_accuracy: 0.7500\n",
      "Epoch 14/50\n",
      "3/3 [==============================] - 3s 2s/step - loss: 0.5623 - accuracy: 0.7500 - val_loss: 0.5623 - val_accuracy: 0.7500\n",
      "Epoch 15/50\n",
      "3/3 [==============================] - 3s 2s/step - loss: 0.5623 - accuracy: 0.7500 - val_loss: 0.5623 - val_accuracy: 0.7500\n",
      "Epoch 16/50\n",
      "3/3 [==============================] - 3s 2s/step - loss: 0.5623 - accuracy: 0.7500 - val_loss: 0.5623 - val_accuracy: 0.7500\n",
      "Epoch 17/50\n",
      "3/3 [==============================] - 3s 2s/step - loss: 0.5623 - accuracy: 0.7500 - val_loss: 0.5623 - val_accuracy: 0.7500\n",
      "Epoch 18/50\n",
      "3/3 [==============================] - 3s 2s/step - loss: 0.5623 - accuracy: 0.7500 - val_loss: 0.5623 - val_accuracy: 0.7500\n",
      "Epoch 19/50\n",
      "3/3 [==============================] - 3s 2s/step - loss: 0.5623 - accuracy: 0.7500 - val_loss: 0.5623 - val_accuracy: 0.7500\n",
      "Epoch 20/50\n",
      "3/3 [==============================] - 3s 2s/step - loss: 0.5623 - accuracy: 0.7500 - val_loss: 0.5623 - val_accuracy: 0.7500\n",
      "Epoch 21/50\n",
      "3/3 [==============================] - 3s 2s/step - loss: 0.5623 - accuracy: 0.7500 - val_loss: 0.5623 - val_accuracy: 0.7500\n",
      "Epoch 22/50\n",
      "3/3 [==============================] - 3s 2s/step - loss: 0.5623 - accuracy: 0.7500 - val_loss: 0.5623 - val_accuracy: 0.7500\n",
      "Epoch 23/50\n",
      "3/3 [==============================] - 3s 2s/step - loss: 0.5623 - accuracy: 0.7500 - val_loss: 0.5623 - val_accuracy: 0.7500\n",
      "Epoch 24/50\n",
      "3/3 [==============================] - 3s 2s/step - loss: 0.5623 - accuracy: 0.7500 - val_loss: 0.5623 - val_accuracy: 0.7500\n",
      "Epoch 25/50\n",
      "3/3 [==============================] - 3s 2s/step - loss: 0.5623 - accuracy: 0.7500 - val_loss: 0.5623 - val_accuracy: 0.7500\n",
      "Epoch 26/50\n",
      "3/3 [==============================] - 3s 2s/step - loss: 0.5623 - accuracy: 0.7500 - val_loss: 0.5623 - val_accuracy: 0.7500\n",
      "Epoch 27/50\n",
      "3/3 [==============================] - 3s 2s/step - loss: 0.5623 - accuracy: 0.7500 - val_loss: 0.5623 - val_accuracy: 0.7500\n",
      "Epoch 28/50\n",
      "3/3 [==============================] - 3s 2s/step - loss: 0.5623 - accuracy: 0.7500 - val_loss: 0.5623 - val_accuracy: 0.7500\n",
      "Epoch 29/50\n",
      "3/3 [==============================] - 3s 2s/step - loss: 0.5623 - accuracy: 0.7500 - val_loss: 0.5623 - val_accuracy: 0.7500\n",
      "Epoch 30/50\n",
      "3/3 [==============================] - 3s 2s/step - loss: 0.5623 - accuracy: 0.7500 - val_loss: 0.5623 - val_accuracy: 0.7500\n",
      "Epoch 31/50\n",
      "3/3 [==============================] - 3s 2s/step - loss: 0.5623 - accuracy: 0.7500 - val_loss: 0.5623 - val_accuracy: 0.7500\n",
      "Epoch 32/50\n",
      "3/3 [==============================] - 3s 2s/step - loss: 0.5623 - accuracy: 0.7500 - val_loss: 0.5623 - val_accuracy: 0.7500\n",
      "Epoch 33/50\n",
      "3/3 [==============================] - 3s 2s/step - loss: 0.5623 - accuracy: 0.7500 - val_loss: 0.5623 - val_accuracy: 0.7500\n",
      "Epoch 34/50\n",
      "3/3 [==============================] - 3s 2s/step - loss: 0.5623 - accuracy: 0.7500 - val_loss: 0.5623 - val_accuracy: 0.7500\n",
      "Epoch 35/50\n",
      "3/3 [==============================] - 3s 2s/step - loss: 0.5623 - accuracy: 0.7500 - val_loss: 0.5623 - val_accuracy: 0.7500\n",
      "Epoch 36/50\n",
      "3/3 [==============================] - 3s 2s/step - loss: 0.5623 - accuracy: 0.7500 - val_loss: 0.5623 - val_accuracy: 0.7500\n",
      "Epoch 37/50\n",
      "3/3 [==============================] - 3s 2s/step - loss: 0.5623 - accuracy: 0.7500 - val_loss: 0.5623 - val_accuracy: 0.7500\n",
      "Epoch 38/50\n",
      "3/3 [==============================] - 3s 2s/step - loss: 0.5623 - accuracy: 0.7500 - val_loss: 0.5623 - val_accuracy: 0.7500\n",
      "Epoch 39/50\n",
      "3/3 [==============================] - 3s 2s/step - loss: 0.5623 - accuracy: 0.7500 - val_loss: 0.5623 - val_accuracy: 0.7500\n",
      "Epoch 40/50\n",
      "3/3 [==============================] - 3s 2s/step - loss: 0.5623 - accuracy: 0.7500 - val_loss: 0.5623 - val_accuracy: 0.7500\n",
      "Epoch 41/50\n",
      "3/3 [==============================] - 3s 2s/step - loss: 0.5623 - accuracy: 0.7500 - val_loss: 0.5623 - val_accuracy: 0.7500\n",
      "Epoch 42/50\n",
      "3/3 [==============================] - 3s 2s/step - loss: 0.5623 - accuracy: 0.7500 - val_loss: 0.5623 - val_accuracy: 0.7500\n",
      "Epoch 43/50\n",
      "3/3 [==============================] - 3s 2s/step - loss: 0.5623 - accuracy: 0.7500 - val_loss: 0.5623 - val_accuracy: 0.7500\n",
      "Epoch 44/50\n",
      "3/3 [==============================] - 3s 2s/step - loss: 0.5623 - accuracy: 0.7500 - val_loss: 0.5623 - val_accuracy: 0.7500\n",
      "Epoch 45/50\n",
      "3/3 [==============================] - 3s 2s/step - loss: 0.5623 - accuracy: 0.7500 - val_loss: 0.5623 - val_accuracy: 0.7500\n",
      "Epoch 46/50\n",
      "3/3 [==============================] - 3s 2s/step - loss: 0.5623 - accuracy: 0.7500 - val_loss: 0.5623 - val_accuracy: 0.7500\n",
      "Epoch 47/50\n",
      "3/3 [==============================] - 3s 2s/step - loss: 0.5623 - accuracy: 0.7500 - val_loss: 0.5623 - val_accuracy: 0.7500\n",
      "Epoch 48/50\n",
      "3/3 [==============================] - 3s 2s/step - loss: 0.5623 - accuracy: 0.7500 - val_loss: 0.5623 - val_accuracy: 0.7500\n",
      "Epoch 49/50\n",
      "3/3 [==============================] - 3s 2s/step - loss: 0.5623 - accuracy: 0.7500 - val_loss: 0.5623 - val_accuracy: 0.7500\n",
      "Epoch 50/50\n",
      "3/3 [==============================] - 3s 2s/step - loss: 0.5623 - accuracy: 0.7500 - val_loss: 0.5623 - val_accuracy: 0.7500\n"
     ]
    }
   ],
   "source": [
    "model_fit = model.fit(train_dataset,\n",
    "                     steps_per_epoch = 3, \n",
    "                      epochs = 50,\n",
    "                      validation_data = validation_dataset\n",
    "                      \n",
    "                     )"
   ]
  },
  {
   "cell_type": "code",
   "execution_count": 10,
   "id": "4fbb0457",
   "metadata": {},
   "outputs": [
    {
     "data": {
      "text/plain": [
       "'C:\\\\Users\\\\topow\\\\Desktop\\\\prediction_grids\\\\1000m\\\\new_grids'"
      ]
     },
     "execution_count": 10,
     "metadata": {},
     "output_type": "execute_result"
    }
   ],
   "source": [
    "dir_path = r\"C:\\Users\\topow\\Desktop\\prediction_grids\\1000m\\new_grids\"\n",
    "\n",
    "dir_path"
   ]
  },
  {
   "cell_type": "code",
   "execution_count": 11,
   "id": "aaa0152a",
   "metadata": {},
   "outputs": [
    {
     "name": "stdout",
     "output_type": "stream",
     "text": [
      "Heavy\n",
      "_BN107_LC08_L2SP_041036_20210316_20210328_02_T1_SR_B1.TIF\n",
      "<PIL.Image.Image image mode=RGB size=29x29 at 0x25A32566CD0>\n"
     ]
    },
    {
     "data": {
      "image/png": "[encoded data removed]",
      "text/plain": [
       "<Figure size 432x288 with 1 Axes>"
      ]
     },
     "metadata": {
      "needs_background": "light"
     },
     "output_type": "display_data"
    },
    {
     "name": "stdout",
     "output_type": "stream",
     "text": [
      "Heavy\n",
      "_BN107_LC08_L2SP_041036_20210316_20210328_02_T1_SR_B2.TIF\n",
      "<PIL.Image.Image image mode=RGB size=29x29 at 0x25A3284F850>\n"
     ]
    },
    {
     "data": {
      "image/png": "[encoded data removed]",
      "text/plain": [
       "<Figure size 432x288 with 1 Axes>"
      ]
     },
     "metadata": {
      "needs_background": "light"
     },
     "output_type": "display_data"
    },
    {
     "name": "stdout",
     "output_type": "stream",
     "text": [
      "Heavy\n",
      "_BO107_LC08_L2SP_041036_20210316_20210328_02_T1_SR_B1.TIF\n",
      "<PIL.Image.Image image mode=RGB size=29x29 at 0x25A332D8100>\n"
     ]
    },
    {
     "data": {
      "image/png": "[encoded data removed]",
      "text/plain": [
       "<Figure size 432x288 with 1 Axes>"
      ]
     },
     "metadata": {
      "needs_background": "light"
     },
     "output_type": "display_data"
    },
    {
     "name": "stdout",
     "output_type": "stream",
     "text": [
      "===========================================\n",
      "we have analyzed: 500images\n",
      "===========================================\n",
      "===========================================\n",
      "we have analyzed: 1000images\n",
      "===========================================\n",
      "Heavy\n",
      "_BX113_LC08_L2SP_041036_20210316_20210328_02_T1_SR_B1.TIF\n",
      "<PIL.Image.Image image mode=RGB size=29x29 at 0x25A33286700>\n"
     ]
    },
    {
     "data": {
      "image/png": "[encoded data removed]",
      "text/plain": [
       "<Figure size 432x288 with 1 Axes>"
      ]
     },
     "metadata": {
      "needs_background": "light"
     },
     "output_type": "display_data"
    },
    {
     "name": "stdout",
     "output_type": "stream",
     "text": [
      "Heavy\n",
      "_BX113_LC08_L2SP_041036_20210316_20210328_02_T1_SR_B2.TIF\n",
      "<PIL.Image.Image image mode=RGB size=29x29 at 0x25A325B5520>\n"
     ]
    },
    {
     "data": {
      "image/png": "[encoded data removed]",
      "text/plain": [
       "<Figure size 432x288 with 1 Axes>"
      ]
     },
     "metadata": {
      "needs_background": "light"
     },
     "output_type": "display_data"
    },
    {
     "name": "stdout",
     "output_type": "stream",
     "text": [
      "===========================================\n",
      "we have analyzed: 1500images\n",
      "===========================================\n",
      "===========================================\n",
      "we have analyzed: 2000images\n",
      "===========================================\n"
     ]
    }
   ],
   "source": [
    "count = 0\n",
    "capture_list = []\n",
    "\n",
    "# {'Heavy': 0, 'Low': 1, 'Moderate': 2, 'Severe': 3}\n",
    "for i in os.listdir(dir_path):\n",
    "    list_val = []\n",
    "    \n",
    "    img = image.load_img(dir_path +'//' + i, target_size =(29,29,3))\n",
    "    \n",
    "    \n",
    "    X = image.img_to_array(img)\n",
    "    X = np.expand_dims(X,axis = 0)\n",
    "    images = np.vstack([X])\n",
    "    val = model.predict(images)\n",
    "    \n",
    "    \n",
    "    if count == 500: \n",
    "        print(\"===========================================\")\n",
    "        print(\"we have analyzed: \" + str(count) + \"images\")\n",
    "        print(\"===========================================\")\n",
    "    if count == 1000: \n",
    "        print(\"===========================================\")\n",
    "        print(\"we have analyzed: \" + str(count) + \"images\")\n",
    "        print(\"===========================================\")\n",
    "\n",
    "    if count == 1500: \n",
    "        print(\"===========================================\")\n",
    "        print(\"we have analyzed: \" + str(count) + \"images\")\n",
    "        print(\"===========================================\")\n",
    "\n",
    "    if count == 2000: \n",
    "        print(\"===========================================\")\n",
    "        print(\"we have analyzed: \" + str(count) + \"images\")\n",
    "        print(\"===========================================\")\n",
    "\n",
    "    if count == 2500: \n",
    "        print(\"===========================================\")\n",
    "        print(\"we have analyzed: \" + str(count) + \"images\")\n",
    "        print(\"===========================================\")\n",
    "    if count == 3500: \n",
    "        print(\"===========================================\")\n",
    "        print(\"we have analyzed: \" + str(count) + \"images\")\n",
    "        print(\"===========================================\")\n",
    "    \n",
    "    if val == 0: \n",
    "        print(\"Heavy\")\n",
    "        \n",
    "        \n",
    "        val_type = \"Heavy\"\n",
    "        \n",
    "        print(i)\n",
    "        print(img)\n",
    "        plt.imshow(img)\n",
    "        plt.show()\n",
    "        txt = i\n",
    "        endloc= txt.find(\"_\", 1, 10)\n",
    "        grid = txt[1:endloc]\n",
    "        a = i.split(\"_\")\n",
    "        date = a[5]\n",
    "        grid = a[1]\n",
    "        txt = i\n",
    "        list_val.append([val_type,i,grid,date])\n",
    "        capture_list.append(list_val)\n",
    "        \n",
    "        \n",
    "        \n",
    "    if val == 1: \n",
    "        \n",
    "        print(\"Low\")\n",
    "        \n",
    "        \n",
    "        val_type = \"Low\"\n",
    "        list_val = []\n",
    "        print(i)\n",
    "        print(img)\n",
    "        plt.imshow(img)\n",
    "        plt.show()\n",
    "        txt = i\n",
    "        endloc= txt.find(\"_\", 1, 10)\n",
    "        grid = txt[1:endloc]\n",
    "        a = i.split(\"_\")\n",
    "        date = a[5]\n",
    "        grid = a[1]\n",
    "        txt = i\n",
    "        list_val.append([val_type,i,grid,date])\n",
    "        capture_list.append(list_val)\n",
    "        \n",
    "    if val == 2: \n",
    "        print (\"Moderate\")\n",
    "        \n",
    "        val_type = \"Moderate\"\n",
    "        list_val = []\n",
    "        print(i)\n",
    "        print(img)\n",
    "        plt.imshow(img)\n",
    "        plt.show()\n",
    "        txt = i\n",
    "        endloc= txt.find(\"_\", 1, 10)\n",
    "        grid = txt[1:endloc]\n",
    "        a = i.split(\"_\")\n",
    "        date = a[5]\n",
    "        grid = a[1]\n",
    "        txt = i\n",
    "        list_val.append([val_type,i,grid,date])\n",
    "        capture_list.append(list_val)\n",
    "    if val == 3: \n",
    "        print(\"Severe\")\n",
    "        \n",
    "        val_type = \"Severe\"\n",
    "        list_val = []\n",
    "        print(i)\n",
    "        print(img)\n",
    "        plt.imshow(img)\n",
    "        plt.show()\n",
    "        txt = i\n",
    "        endloc= txt.find(\"_\", 1, 10)\n",
    "        grid = txt[1:endloc]\n",
    "        a = i.split(\"_\")\n",
    "        date = a[5]\n",
    "        grid = a[1]\n",
    "        txt = i\n",
    "        list_val.append([val_type,i,grid,date])\n",
    "        capture_list.append(list_val)\n",
    "        \n",
    "    count = count + 1 \n",
    "   "
   ]
  },
  {
   "cell_type": "code",
   "execution_count": 12,
   "id": "a954420c",
   "metadata": {},
   "outputs": [],
   "source": [
    "newlist = list()\n",
    "for i in capture_list: \n",
    "    newlist.append(i[0])\n",
    "    \n",
    "products_list = newlist\n",
    "df_columns = ['type','filename' ,'grid','date']\n",
    "df = pd.DataFrame (products_list, columns = df_columns)\n"
   ]
  },
  {
   "cell_type": "code",
   "execution_count": 13,
   "id": "aee19814",
   "metadata": {},
   "outputs": [
    {
     "data": {
      "text/html": [
       "<div>\n",
       "<style scoped>\n",
       "    .dataframe tbody tr th:only-of-type {\n",
       "        vertical-align: middle;\n",
       "    }\n",
       "\n",
       "    .dataframe tbody tr th {\n",
       "        vertical-align: top;\n",
       "    }\n",
       "\n",
       "    .dataframe thead th {\n",
       "        text-align: right;\n",
       "    }\n",
       "</style>\n",
       "<table border=\"1\" class=\"dataframe\">\n",
       "  <thead>\n",
       "    <tr style=\"text-align: right;\">\n",
       "      <th></th>\n",
       "      <th>type</th>\n",
       "      <th>filename</th>\n",
       "      <th>grid</th>\n",
       "      <th>date</th>\n",
       "    </tr>\n",
       "  </thead>\n",
       "  <tbody>\n",
       "    <tr>\n",
       "      <th>0</th>\n",
       "      <td>Heavy</td>\n",
       "      <td>_BN107_LC08_L2SP_041036_20210316_20210328_02_T...</td>\n",
       "      <td>BN107</td>\n",
       "      <td>20210316</td>\n",
       "    </tr>\n",
       "  </tbody>\n",
       "</table>\n",
       "</div>"
      ],
      "text/plain": [
       "    type                                           filename   grid      date\n",
       "0  Heavy  _BN107_LC08_L2SP_041036_20210316_20210328_02_T...  BN107  20210316"
      ]
     },
     "execution_count": 13,
     "metadata": {},
     "output_type": "execute_result"
    }
   ],
   "source": [
    "df.head(1)"
   ]
  }
 ],
 "metadata": {
  "kernelspec": {
   "display_name": "Python 3 (ipykernel)",
   "language": "python",
   "name": "python3"
  },
  "language_info": {
   "codemirror_mode": {
    "name": "ipython",
    "version": 3
   },
   "file_extension": ".py",
   "mimetype": "text/x-python",
   "name": "python",
   "nbconvert_exporter": "python",
   "pygments_lexer": "ipython3",
   "version": "3.9.7"
  }
 },
 "nbformat": 4,
 "nbformat_minor": 5
}
