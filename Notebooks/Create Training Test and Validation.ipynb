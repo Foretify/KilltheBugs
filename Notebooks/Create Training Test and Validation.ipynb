{
 "cells": [
  {
   "cell_type": "code",
   "execution_count": 9,
   "id": "bfb337db",
   "metadata": {},
   "outputs": [],
   "source": [
    "\n",
    "\n",
    "## I made this for TB vs Normal image datasets by improving above code\n",
    "## import libraries\n",
    "\n",
    "import os\n",
    "import numpy as np\n",
    "import shutil\n",
    "import random\n"
   ]
  },
  {
   "cell_type": "code",
   "execution_count": 18,
   "id": "1c069500",
   "metadata": {},
   "outputs": [],
   "source": [
    "# creating train / val /test\n",
    "\n",
    "root_dir = r\"D:\\AILA\\TrainingData\\\\\"\n",
    "new_root = r\"AllDatasets\\\\\"\n",
    "classes = ['Heavy', 'Low', 'Moderate','Severe']"
   ]
  },
  {
   "cell_type": "code",
   "execution_count": 19,
   "id": "fd4b2ac4",
   "metadata": {},
   "outputs": [
    {
     "name": "stdout",
     "output_type": "stream",
     "text": [
      "D:\\AILA\\TrainingData\\\\Heavy\n",
      "Total images  : Heavy 2037\n",
      "Training : Heavy 1527\n",
      "Validation : Heavy 408\n",
      "Testing : Heavy 102\n",
      "D:\\AILA\\TrainingData\\\\Low\n",
      "Total images  : Low 6062\n",
      "Training : Low 4546\n",
      "Validation : Low 1212\n",
      "Testing : Low 304\n",
      "D:\\AILA\\TrainingData\\\\Moderate\n",
      "Total images  : Moderate 4970\n",
      "Training : Moderate 3727\n",
      "Validation : Moderate 994\n",
      "Testing : Moderate 249\n",
      "D:\\AILA\\TrainingData\\\\Severe\n",
      "Total images  : Severe 7938\n",
      "Training : Severe 5953\n",
      "Validation : Severe 1588\n",
      "Testing : Severe 397\n"
     ]
    }
   ],
   "source": [
    "\n",
    "for cls in classes:\n",
    "    os.makedirs(root_dir + new_root+ 'train/' + cls)\n",
    "    os.makedirs(root_dir +new_root +'val/' + cls)\n",
    "    os.makedirs(root_dir +new_root + 'test/' + cls)\n",
    "    \n",
    "## creating partition of the data after shuffeling\n",
    "\n",
    "for cls in classes:\n",
    "    src = root_dir + cls # folder to copy images from\n",
    "    print(src)\n",
    "\n",
    "    allFileNames = os.listdir(src)\n",
    "    np.random.shuffle(allFileNames)\n",
    "\n",
    "    ## here 0.75 = training ratio , (0.95-0.75) = validation ratio , (1-0.95) =  \n",
    "    ##training ratio  \n",
    "    train_FileNames,val_FileNames,test_FileNames = np.split(np.array(allFileNames),[int(len(allFileNames)*0.75),int(len(allFileNames)*0.95)])\n",
    "\n",
    "    # #Converting file names from array to list\n",
    "\n",
    "    train_FileNames = [src+'/'+ name for name in train_FileNames]\n",
    "    val_FileNames = [src+'/' + name for name in val_FileNames]\n",
    "    test_FileNames = [src+'/' + name for name in test_FileNames]\n",
    "\n",
    "    print('Total images  : '+ cls + ' ' +str(len(allFileNames)))\n",
    "    print('Training : '+ cls + ' '+str(len(train_FileNames)))\n",
    "    print('Validation : '+ cls + ' ' +str(len(val_FileNames)))\n",
    "    print('Testing : '+ cls + ' '+str(len(test_FileNames)))\n",
    "    \n",
    "    ## Copy pasting images to target directory\n",
    "\n",
    "    for name in train_FileNames:\n",
    "        shutil.copy(name, root_dir + new_root+'train/'+cls )\n",
    "\n",
    "\n",
    "    for name in val_FileNames:\n",
    "        shutil.copy(name, root_dir +new_root+'val/'+cls )\n",
    "\n",
    "\n",
    "    for name in test_FileNames:\n",
    "        shutil.copy(name,root_dir + new_root+'test/'+cls )"
   ]
  },
  {
   "cell_type": "code",
   "execution_count": null,
   "id": "fb9af8cc",
   "metadata": {},
   "outputs": [],
   "source": []
  }
 ],
 "metadata": {
  "kernelspec": {
   "display_name": "Python 3 (ipykernel)",
   "language": "python",
   "name": "python3"
  },
  "language_info": {
   "codemirror_mode": {
    "name": "ipython",
    "version": 3
   },
   "file_extension": ".py",
   "mimetype": "text/x-python",
   "name": "python",
   "nbconvert_exporter": "python",
   "pygments_lexer": "ipython3",
   "version": "3.9.7"
  }
 },
 "nbformat": 4,
 "nbformat_minor": 5
}
