{
 "cells": [
  {
   "cell_type": "code",
   "execution_count": 22,
   "id": "07dfd9fa",
   "metadata": {},
   "outputs": [],
   "source": [
    "import shutil\n",
    "import os\n",
    "\n",
    "import os.path\n",
    "from os import path\n",
    "\n",
    "source = r\"\"\n",
    "\n",
    "destination = r\"\"\n",
    "\n"
   ]
  },
  {
   "cell_type": "code",
   "execution_count": 23,
   "id": "6f534859",
   "metadata": {},
   "outputs": [],
   "source": [
    "def movetestdata(sourcedir, destination): \n",
    "    pass\n",
    "\n",
    "# Function                                                                                                                       \n",
    "def list_files(dir):                                                                                                  \n",
    "    r = []                                                                                                            \n",
    "    subdirs = [x[0] for x in os.walk(dir)]                                                                            \n",
    "    for subdir in subdirs:                                                                                            \n",
    "        files = os.walk(subdir).__next__()[2]                                                                             \n",
    "        if (len(files) > 0):                                                                                          \n",
    "            for file in files:                                                                                        \n",
    "                r.append(os.path.join(subdir, file))                                                                         \n",
    "    return r \n",
    "\n",
    "def moveandnamedata(destination, source):\n",
    "    count = 0 \n",
    "    f_list = list_files(source)\n",
    "    for item in f_list: \n",
    "        new_item = os.path.join(destination,f'_{os.path.dirname(item).split(\"~\")[-1]}_{os.path.basename(item)}')\n",
    "        if os.path.exists(new_item):\n",
    "            pass\n",
    "        else:\n",
    "            shutil.move(item,new_item )\n",
    "            count = count +1\n",
    "    return count"
   ]
  },
  {
   "cell_type": "code",
   "execution_count": null,
   "id": "0c02a846",
   "metadata": {},
   "outputs": [],
   "source": [
    "\n"
   ]
  },
  {
   "cell_type": "code",
   "execution_count": null,
   "id": "8a4e693f",
   "metadata": {},
   "outputs": [],
   "source": []
  }
 ],
 "metadata": {
  "kernelspec": {
   "display_name": "Python 3 (ipykernel)",
   "language": "python",
   "name": "python3"
  },
  "language_info": {
   "codemirror_mode": {
    "name": "ipython",
    "version": 3
   },
   "file_extension": ".py",
   "mimetype": "text/x-python",
   "name": "python",
   "nbconvert_exporter": "python",
   "pygments_lexer": "ipython3",
   "version": "3.9.7"
  }
 },
 "nbformat": 4,
 "nbformat_minor": 5
}
