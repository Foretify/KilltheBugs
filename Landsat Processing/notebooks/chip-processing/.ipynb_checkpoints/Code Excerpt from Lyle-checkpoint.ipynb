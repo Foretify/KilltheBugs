{
 "cells": [
  {
   "cell_type": "code",
   "execution_count": 1,
   "id": "e37b4e59",
   "metadata": {},
   "outputs": [],
   "source": [
    "from datetime import date, timedelta\n",
    "\n",
    "import pandas as pd\n",
    "import shutil \n",
    "import os\n",
    "from osgeo import gdal\n",
    "from osgeo import ogr\n",
    "from osgeo import osr\n",
    "from osgeo import gdal_array\n",
    "from osgeo import gdalconst"
   ]
  },
  {
   "cell_type": "code",
   "execution_count": 2,
   "id": "8e37b43c",
   "metadata": {},
   "outputs": [],
   "source": [
    "df = pd.read_csv('ISHB_input_file.csv')"
   ]
  },
  {
   "cell_type": "code",
   "execution_count": 9,
   "id": "e99cc717",
   "metadata": {},
   "outputs": [],
   "source": [
    "df.dropna(subset='Sample Date', inplace=True)"
   ]
  },
  {
   "cell_type": "code",
   "execution_count": 10,
   "id": "bd3442f0",
   "metadata": {},
   "outputs": [
    {
     "name": "stdout",
     "output_type": "stream",
     "text": [
      "The following fields contain null values:\n",
      "\n",
      "GlobalID : 17 | object\n",
      "CITY : 4 | object\n",
      "HOST_LATIN_NAME : 84 | object\n",
      "HOST_COMMON_NAME : 60 | object\n",
      "REPRODUCTIVE_HOST : 89 | object\n",
      "Diameter at Breast Hight_INCHES : 43 | float64\n",
      "HEIGHT_FEET : 42 | float64\n",
      "INFESTATION_LEVEL : 15 | object\n",
      "DIEBACK : 25 | object\n",
      "PRIORITY_FOR_REMOVAL : 52 | object\n"
     ]
    }
   ],
   "source": [
    "print(\"The following fields contain null values:\\n\")\n",
    "null_vals = df.isnull().sum().to_dict()\n",
    "for field, count in null_vals.items():\n",
    "    if count > 0:\n",
    "        print(f\"{field} : {count} | {df[field].dtype}\")"
   ]
  },
  {
   "cell_type": "code",
   "execution_count": 3,
   "id": "785ce0e0",
   "metadata": {},
   "outputs": [
    {
     "data": {
      "text/html": [
       "<div>\n",
       "<style scoped>\n",
       "    .dataframe tbody tr th:only-of-type {\n",
       "        vertical-align: middle;\n",
       "    }\n",
       "\n",
       "    .dataframe tbody tr th {\n",
       "        vertical-align: top;\n",
       "    }\n",
       "\n",
       "    .dataframe thead th {\n",
       "        text-align: right;\n",
       "    }\n",
       "</style>\n",
       "<table border=\"1\" class=\"dataframe\">\n",
       "  <thead>\n",
       "    <tr style=\"text-align: right;\">\n",
       "      <th></th>\n",
       "      <th>ID</th>\n",
       "      <th>Data Set</th>\n",
       "      <th>GlobalID</th>\n",
       "      <th>CITY</th>\n",
       "      <th>HOST_LATIN_NAME</th>\n",
       "      <th>HOST_COMMON_NAME</th>\n",
       "      <th>REPRODUCTIVE_HOST</th>\n",
       "      <th>Diameter at Breast Hight_INCHES</th>\n",
       "      <th>HEIGHT_FEET</th>\n",
       "      <th>INFESTATION_LEVEL</th>\n",
       "      <th>DIEBACK</th>\n",
       "      <th>PRIORITY_FOR_REMOVAL</th>\n",
       "      <th>Sample Date</th>\n",
       "      <th>x</th>\n",
       "      <th>y</th>\n",
       "    </tr>\n",
       "  </thead>\n",
       "  <tbody>\n",
       "    <tr>\n",
       "      <th>0</th>\n",
       "      <td>1</td>\n",
       "      <td>1</td>\n",
       "      <td>9f70155b-0869-4558-a797-99d6ce97c4f2</td>\n",
       "      <td>South El Monte</td>\n",
       "      <td>Platanus x hispanica</td>\n",
       "      <td>London plane</td>\n",
       "      <td>Y</td>\n",
       "      <td>14.0</td>\n",
       "      <td>30.0</td>\n",
       "      <td>Moderate</td>\n",
       "      <td>Moderate</td>\n",
       "      <td>Moderate</td>\n",
       "      <td>12/1/20</td>\n",
       "      <td>-118.0638211</td>\n",
       "      <td>34.046498</td>\n",
       "    </tr>\n",
       "    <tr>\n",
       "      <th>1</th>\n",
       "      <td>2</td>\n",
       "      <td>1</td>\n",
       "      <td>b83e919e-7168-4c78-909e-f81c991415d3</td>\n",
       "      <td>South El Monte</td>\n",
       "      <td>Platanus x hispanica</td>\n",
       "      <td>London plane</td>\n",
       "      <td>Y</td>\n",
       "      <td>23.0</td>\n",
       "      <td>120.0</td>\n",
       "      <td>Heavy</td>\n",
       "      <td>Low</td>\n",
       "      <td>Moderate to high</td>\n",
       "      <td>12/1/20</td>\n",
       "      <td>-118.0637685</td>\n",
       "      <td>34.046204</td>\n",
       "    </tr>\n",
       "    <tr>\n",
       "      <th>2</th>\n",
       "      <td>3</td>\n",
       "      <td>1</td>\n",
       "      <td>b59163fc-c6d7-4d00-bc26-a13d9a784792</td>\n",
       "      <td>South El Monte</td>\n",
       "      <td>Platanus x hispanica</td>\n",
       "      <td>London plane</td>\n",
       "      <td>Y</td>\n",
       "      <td>12.0</td>\n",
       "      <td>30.0</td>\n",
       "      <td>Low</td>\n",
       "      <td>Low</td>\n",
       "      <td>Low</td>\n",
       "      <td>12/1/20</td>\n",
       "      <td>-118.063848</td>\n",
       "      <td>34.045881</td>\n",
       "    </tr>\n",
       "    <tr>\n",
       "      <th>3</th>\n",
       "      <td>4</td>\n",
       "      <td>1</td>\n",
       "      <td>b466c05b-8610-4e9f-b7e1-73da09671d11</td>\n",
       "      <td>South El Monte</td>\n",
       "      <td>Platanus x hispanica</td>\n",
       "      <td>London plane</td>\n",
       "      <td>Y</td>\n",
       "      <td>19.0</td>\n",
       "      <td>55.0</td>\n",
       "      <td>Heavy</td>\n",
       "      <td>Moderate</td>\n",
       "      <td>Moderate to high</td>\n",
       "      <td>12/1/20</td>\n",
       "      <td>-118.0636258</td>\n",
       "      <td>34.046518</td>\n",
       "    </tr>\n",
       "    <tr>\n",
       "      <th>4</th>\n",
       "      <td>5</td>\n",
       "      <td>1</td>\n",
       "      <td>3d47b5a2-613b-4b1e-a7f1-1102600b32b1</td>\n",
       "      <td>South El Monte</td>\n",
       "      <td>Platanus x hispanica</td>\n",
       "      <td>London plane</td>\n",
       "      <td>Y</td>\n",
       "      <td>19.0</td>\n",
       "      <td>100.0</td>\n",
       "      <td>Severe</td>\n",
       "      <td>Heavy</td>\n",
       "      <td>Moderate to high</td>\n",
       "      <td>12/1/20</td>\n",
       "      <td>-118.0636605</td>\n",
       "      <td>34.046487</td>\n",
       "    </tr>\n",
       "  </tbody>\n",
       "</table>\n",
       "</div>"
      ],
      "text/plain": [
       "   ID  Data Set                              GlobalID            CITY  \\\n",
       "0   1         1  9f70155b-0869-4558-a797-99d6ce97c4f2  South El Monte   \n",
       "1   2         1  b83e919e-7168-4c78-909e-f81c991415d3  South El Monte   \n",
       "2   3         1  b59163fc-c6d7-4d00-bc26-a13d9a784792  South El Monte   \n",
       "3   4         1  b466c05b-8610-4e9f-b7e1-73da09671d11  South El Monte   \n",
       "4   5         1  3d47b5a2-613b-4b1e-a7f1-1102600b32b1  South El Monte   \n",
       "\n",
       "        HOST_LATIN_NAME HOST_COMMON_NAME REPRODUCTIVE_HOST  \\\n",
       "0  Platanus x hispanica     London plane                 Y   \n",
       "1  Platanus x hispanica     London plane                 Y   \n",
       "2  Platanus x hispanica     London plane                 Y   \n",
       "3  Platanus x hispanica     London plane                 Y   \n",
       "4  Platanus x hispanica     London plane                 Y   \n",
       "\n",
       "   Diameter at Breast Hight_INCHES  HEIGHT_FEET INFESTATION_LEVEL   DIEBACK  \\\n",
       "0                             14.0         30.0          Moderate  Moderate   \n",
       "1                             23.0        120.0             Heavy       Low   \n",
       "2                             12.0         30.0               Low       Low   \n",
       "3                             19.0         55.0             Heavy  Moderate   \n",
       "4                             19.0        100.0            Severe     Heavy   \n",
       "\n",
       "  PRIORITY_FOR_REMOVAL Sample Date             x          y  \n",
       "0             Moderate     12/1/20  -118.0638211  34.046498  \n",
       "1     Moderate to high     12/1/20  -118.0637685  34.046204  \n",
       "2                  Low     12/1/20   -118.063848  34.045881  \n",
       "3     Moderate to high     12/1/20  -118.0636258  34.046518  \n",
       "4     Moderate to high     12/1/20  -118.0636605  34.046487  "
      ]
     },
     "execution_count": 3,
     "metadata": {},
     "output_type": "execute_result"
    }
   ],
   "source": [
    "df.head()"
   ]
  },
  {
   "cell_type": "code",
   "execution_count": 4,
   "id": "aa2f84c6",
   "metadata": {},
   "outputs": [
    {
     "name": "stderr",
     "output_type": "stream",
     "text": [
      "C:\\Users\\Dev\\AppData\\Local\\Temp\\ipykernel_6280\\2548648623.py:3: FutureWarning: The default value of regex will change from True to False in a future version. In addition, single character regular expressions will *not* be treated as literal strings when regex=True.\n",
      "  df.INFESTATION_LEVEL = df.INFESTATION_LEVEL.str.replace('.', '_')\n"
     ]
    }
   ],
   "source": [
    "df.INFESTATION_LEVEL = df.INFESTATION_LEVEL.str.strip()\n",
    "\n",
    "df.INFESTATION_LEVEL = df.INFESTATION_LEVEL.str.replace('.', '_')"
   ]
  },
  {
   "cell_type": "code",
   "execution_count": 11,
   "id": "092c3724",
   "metadata": {},
   "outputs": [
    {
     "data": {
      "text/plain": [
       "array(['Moderate', 'Heavy', 'Low', 'Severe', nan, 'Severe_ Amplifier'],\n",
       "      dtype=object)"
      ]
     },
     "execution_count": 11,
     "metadata": {},
     "output_type": "execute_result"
    }
   ],
   "source": [
    "folder_list = df['INFESTATION_LEVEL'].unique()\n",
    "folder_list"
   ]
  },
  {
   "cell_type": "code",
   "execution_count": 41,
   "id": "8fa84f89",
   "metadata": {},
   "outputs": [
    {
     "name": "stdout",
     "output_type": "stream",
     "text": [
      "['Moderate', 'Heavy', 'Low', 'Severe', 'Severe_ Amplifier']\n"
     ]
    }
   ],
   "source": [
    "folder_list\n",
    "newlist = [x for x in folder_list if pd.isnull(x) == False]\n",
    "print(newlist)"
   ]
  },
  {
   "cell_type": "code",
   "execution_count": 36,
   "id": "8f676216",
   "metadata": {},
   "outputs": [
    {
     "data": {
      "text/plain": [
       "'C:\\\\Users\\\\topow\\\\Notebooks\\\\Create Sub Folders'"
      ]
     },
     "execution_count": 36,
     "metadata": {},
     "output_type": "execute_result"
    }
   ],
   "source": [
    "cwd = os.getcwd()\n",
    "cwd\n"
   ]
  },
  {
   "cell_type": "code",
   "execution_count": 47,
   "id": "cf58d82b",
   "metadata": {},
   "outputs": [
    {
     "name": "stdout",
     "output_type": "stream",
     "text": [
      "Moderate\n",
      "C:\\Users\\topow\\Notebooks\\Create Sub Folders\\Moderate\n",
      "True\n",
      "The directory is already created: Moderate\n",
      "Heavy\n",
      "C:\\Users\\topow\\Notebooks\\Create Sub Folders\\Heavy\n",
      "True\n",
      "The directory is already created: Heavy\n",
      "Low\n",
      "C:\\Users\\topow\\Notebooks\\Create Sub Folders\\Low\n",
      "True\n",
      "The directory is already created: Low\n",
      "Severe\n",
      "C:\\Users\\topow\\Notebooks\\Create Sub Folders\\Severe\n",
      "True\n",
      "The directory is already created: Severe\n",
      "Severe_ Amplifier\n",
      "C:\\Users\\topow\\Notebooks\\Create Sub Folders\\Severe_ Amplifier\n",
      "True\n",
      "The directory is already created: Severe_ Amplifier\n"
     ]
    }
   ],
   "source": [
    "for i in newlist:\n",
    "    print(i)\n",
    "    create_file = cwd +\"\\\\\"+ i\n",
    "    print(create_file)\n",
    "    isdir = os.path.isdir(create_file) \n",
    "    print(isdir)\n",
    "    if isdir == False:\n",
    "        os.mkdir(create_file)\n",
    "        print(\"The following folder was created: \" + i  )\n",
    "    else: \n",
    "        print(f'The directory is already created: ' + i )\n",
    "   "
   ]
  },
  {
   "cell_type": "code",
   "execution_count": 21,
   "id": "6a1ee228",
   "metadata": {},
   "outputs": [
    {
     "name": "stdout",
     "output_type": "stream",
     "text": [
      "False\n"
     ]
    }
   ],
   "source": [
    "'''\n",
    "File naming structure: LXSS_LLLL_PPPRRR_YYYYMMDD_yyyymmdd_CC_TX\n",
    "\n",
    "Example:  LC08_L1GT_029030_20151209_20160131_01_RT\n",
    "\n",
    "Where:\n",
    "\n",
    "L = Landsat\n",
    "X = Sensor (“C”=OLI/TIRS combined, “O”=OLI-only, “T”=TIRS-only, “E”=ETM+, “T”=“TM, “M”=MSS)\n",
    "SS = Satellite (”07”=Landsat 7, “08”=Landsat 8)\n",
    "LLL = Processing correction level (L1TP/L1GT/L1GS)\n",
    "PPP = WRS path\n",
    "RRR = WRS row\n",
    "YYYYMMDD = Acquisition year, month, day\n",
    "yyyymmdd - Processing year, month, day\n",
    "CC = Collection number (01, 02, …)\n",
    "TX = Collection category (“RT”=Real-Time, “T1”=Tier 1, “T2”=Tier 2)\n",
    "\n",
    "\n",
    "\n",
    "Means: Landsat 8; OLI/TIRS combined; processing correction level L1GT; path 029; row 030; \n",
    "acquired December 9, 2015; processed January 31, 2016; Collection 1; Real-Time\n",
    "\n",
    "'''"
   ]
  },
  {
   "cell_type": "code",
   "execution_count": 12,
   "id": "01c18009",
   "metadata": {},
   "outputs": [
    {
     "data": {
      "text/plain": [
       "array(['12/1/20', '12/8/20', '12/9/20', '12/10/20', '12/15/20',\n",
       "       '12/17/20', '12/21/20', '12/30/20', '1/4/21', '1/5/21', '1/6/21',\n",
       "       '1/11/21', '1/12/21', '1/14/21', '1/19/21', '1/20/21', '1/25/21',\n",
       "       '1/26/21', '2/18/21', '3/4/21', '3/17/21', '3/18/21', '3/22/21',\n",
       "       '3/23/21', '4/5/21', '4/14/21', '4/19/21', '4/20/21', '5/5/21',\n",
       "       '7/12/21', '7/13/21', '7/19/21', '7/20/21', '7/27/21', '7/28/21',\n",
       "       '8/2/21', '8/3/21', '8/9/21', '8/16/21', '8/19/21', '9/20/21',\n",
       "       '9/21/21', '9/27/21', '9/29/21', '10/13/21', '10/20/21',\n",
       "       '10/27/21', '12/14/21', '6/17/21', '7/26/21'], dtype=object)"
      ]
     },
     "execution_count": 12,
     "metadata": {},
     "output_type": "execute_result"
    }
   ],
   "source": [
    "Dates = df['Sample Date'].unique()\n",
    "Dates"
   ]
  },
  {
   "cell_type": "code",
   "execution_count": 13,
   "id": "11af35c1",
   "metadata": {},
   "outputs": [],
   "source": [
    "\n",
    "current_date = date.today().isoformat()   \n",
    "days_before = (date.today()-timedelta(days=30)).isoformat()\n",
    "days_after = (date.today()+timedelta(days=30)).isoformat()  "
   ]
  },
  {
   "cell_type": "code",
   "execution_count": 14,
   "id": "4b42bd75",
   "metadata": {},
   "outputs": [
    {
     "name": "stdout",
     "output_type": "stream",
     "text": [
      "\n",
      "Current Date:  2022-04-12\n",
      "30 days before current date:  2022-03-13\n",
      "30 days after current date :  2022-05-12\n"
     ]
    }
   ],
   "source": [
    "print(\"\\nCurrent Date: \",current_date)\n",
    "print(\"30 days before current date: \",days_before)\n",
    "print(\"30 days after current date : \",days_after)"
   ]
  },
  {
   "cell_type": "code",
   "execution_count": 15,
   "id": "d315ac5b",
   "metadata": {},
   "outputs": [
    {
     "data": {
      "text/plain": [
       "'12/1/20'"
      ]
     },
     "execution_count": 15,
     "metadata": {},
     "output_type": "execute_result"
    }
   ],
   "source": [
    "Dates[0]"
   ]
  },
  {
   "cell_type": "code",
   "execution_count": 81,
   "id": "90e4e724",
   "metadata": {},
   "outputs": [
    {
     "data": {
      "text/plain": [
       "'12/1/2020'"
      ]
     },
     "execution_count": 81,
     "metadata": {},
     "output_type": "execute_result"
    }
   ],
   "source": [
    "\n",
    "\n",
    "beg = Dates[0][:5]\n",
    "year = \"20\"\n",
    "end = Dates[0][5:]\n",
    "\n",
    "date = beg + year + end\n",
    "date"
   ]
  },
  {
   "cell_type": "code",
   "execution_count": 73,
   "id": "c91edc36",
   "metadata": {},
   "outputs": [
    {
     "data": {
      "text/plain": [
       "'Python'"
      ]
     },
     "execution_count": 73,
     "metadata": {},
     "output_type": "execute_result"
    }
   ],
   "source": [
    "s1 = \"Pyton\" \n",
    "s1 = ''.join((s1[:3],'h',s1[3:])) #Character at specific pos\n",
    "s1"
   ]
  },
  {
   "cell_type": "code",
   "execution_count": 57,
   "id": "3a83e2cc",
   "metadata": {},
   "outputs": [],
   "source": [
    "s1 = \"Pyt%son\" %'h' #Character at specific pos"
   ]
  },
  {
   "cell_type": "code",
   "execution_count": 60,
   "id": "8706c2ab",
   "metadata": {},
   "outputs": [
    {
     "data": {
      "text/plain": [
       "numpy.ndarray"
      ]
     },
     "execution_count": 60,
     "metadata": {},
     "output_type": "execute_result"
    }
   ],
   "source": [
    "type(Dates)"
   ]
  },
  {
   "cell_type": "code",
   "execution_count": 59,
   "id": "f92e94c0",
   "metadata": {},
   "outputs": [
    {
     "name": "stdout",
     "output_type": "stream",
     "text": [
      "12/1/20\n",
      "12/8/20\n",
      "12/9/20\n",
      "12/10/20\n",
      "12/15/20\n",
      "12/17/20\n",
      "12/21/20\n",
      "12/30/20\n",
      "1/4/21\n",
      "1/5/21\n",
      "1/6/21\n",
      "1/11/21\n",
      "nan\n",
      "1/12/21\n",
      "1/14/21\n",
      "1/19/21\n",
      "1/20/21\n",
      "1/25/21\n",
      "1/26/21\n",
      "2/18/21\n",
      "3/4/21\n",
      "3/17/21\n",
      "3/18/21\n",
      "3/22/21\n",
      "3/23/21\n",
      "4/5/21\n",
      "4/14/21\n",
      "4/19/21\n",
      "4/20/21\n",
      "5/5/21\n",
      "7/12/21\n",
      "7/13/21\n",
      "7/19/21\n",
      "7/20/21\n",
      "7/27/21\n",
      "7/28/21\n",
      "8/2/21\n",
      "8/3/21\n",
      "8/9/21\n",
      "8/16/21\n",
      "8/19/21\n",
      "9/20/21\n",
      "9/21/21\n",
      "9/27/21\n",
      "9/29/21\n",
      "10/13/21\n",
      "10/20/21\n",
      "10/27/21\n",
      "12/14/21\n",
      "6/17/21\n",
      "7/26/21\n"
     ]
    }
   ],
   "source": [
    "for i in Dates:\n",
    "    print(i)\n",
    "    "
   ]
  },
  {
   "cell_type": "code",
   "execution_count": null,
   "id": "24f822cf",
   "metadata": {},
   "outputs": [],
   "source": []
  }
 ],
 "metadata": {
  "kernelspec": {
   "display_name": "Python 3 (ipykernel)",
   "language": "python",
   "name": "python3"
  },
  "language_info": {
   "codemirror_mode": {
    "name": "ipython",
    "version": 3
   },
   "file_extension": ".py",
   "mimetype": "text/x-python",
   "name": "python",
   "nbconvert_exporter": "python",
   "pygments_lexer": "ipython3",
   "version": "3.9.7"
  }
 },
 "nbformat": 4,
 "nbformat_minor": 5
}
