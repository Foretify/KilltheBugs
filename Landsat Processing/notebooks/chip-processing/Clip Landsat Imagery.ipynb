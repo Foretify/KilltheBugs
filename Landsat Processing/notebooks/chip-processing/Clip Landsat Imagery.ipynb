{
 "cells": [
  {
   "cell_type": "code",
   "execution_count": 1,
   "id": "ad33caf7",
   "metadata": {},
   "outputs": [],
   "source": [
    "#Clip Mutiple Landsat Bands\n",
    "from osgeo import gdal\n",
    "import os"
   ]
  },
  {
   "cell_type": "code",
   "execution_count": 112,
   "id": "5366f625",
   "metadata": {},
   "outputs": [
    {
     "data": {
      "text/plain": [
       "['.azDownload-007314df-4555-1f43-60fc-7ba599b64664-LC08_L2SP_040036_20130420_20200913_02_T1_ST_B10.TIF',\n",
       " 'LC08_L2SP_040036_20130420_20200913_02_T1_QA_PIXEL.TIF',\n",
       " 'LC08_L2SP_040036_20130420_20200913_02_T1_SR_B7.TIF',\n",
       " 'LC08_L2SP_040036_20130420_20200913_02_T1_ST_CDIST.TIF',\n",
       " 'LC08_L2SP_040036_20130420_20200913_02_T1_ST_DRAD.TIF',\n",
       " 'LC08_L2SP_040036_20130420_20200913_02_T1_ST_EMIS.TIF',\n",
       " 'LC08_L2SP_040036_20130420_20200913_02_T1_ST_EMSD.TIF']"
      ]
     },
     "execution_count": 112,
     "metadata": {},
     "output_type": "execute_result"
    }
   ],
   "source": [
    "#Input and output paths\n",
    "#inputPath = '../Images/'\n",
    "inputPath = 'Images_c1//'\n",
    "outputPath = 'Output//'\n",
    "\n",
    "#Input Raster and Vector Paths\n",
    "bandList = [band for band in os.listdir(inputPath) if band[-4:]=='.TIF']\n",
    "bandList"
   ]
  },
  {
   "cell_type": "code",
   "execution_count": 113,
   "id": "2fc1f717",
   "metadata": {},
   "outputs": [
    {
     "data": {
      "text/plain": [
       "'shapefiles/aoi.shp'"
      ]
     },
     "execution_count": 113,
     "metadata": {},
     "output_type": "execute_result"
    }
   ],
   "source": [
    "shp_clip = 'shapefiles/aoi.shp' #aoi.shp\n",
    "shp_clip"
   ]
  },
  {
   "cell_type": "code",
   "execution_count": null,
   "id": "6f0cf63d",
   "metadata": {},
   "outputs": [],
   "source": []
  },
  {
   "cell_type": "code",
   "execution_count": 118,
   "id": "2c715f67",
   "metadata": {},
   "outputs": [
    {
     "name": "stdout",
     "output_type": "stream",
     "text": [
      "Output//.azDownload-007314df-4555-1f43-60fc-7ba599b64664-LC08_L2SP_040036_20130420_20200913_02_T1_ST_B10_c2.TIF\n",
      "Output//LC08_L2SP_040036_20130420_20200913_02_T1_QA_PIXEL_c2.TIF\n",
      "Output//LC08_L2SP_040036_20130420_20200913_02_T1_SR_B7_c2.TIF\n",
      "Output//LC08_L2SP_040036_20130420_20200913_02_T1_ST_CDIST_c2.TIF\n",
      "Output//LC08_L2SP_040036_20130420_20200913_02_T1_ST_DRAD_c2.TIF\n",
      "Output//LC08_L2SP_040036_20130420_20200913_02_T1_ST_EMIS_c2.TIF\n",
      "Output//LC08_L2SP_040036_20130420_20200913_02_T1_ST_EMSD_c2.TIF\n"
     ]
    }
   ],
   "source": [
    "for band in bandList:\n",
    "    print(outputPath + band[:-4]+'_c2'+band[-4:])\n",
    "    options = gdal.WarpOptions(cutlineDSName=shp_clip,cropToCutline=True)\n",
    "    outBand = gdal.Warp(srcDSOrSrcDSTab=inputPath + band,\n",
    "                        destNameOrDestDS=outputPath + band[:-4]+'_c2'+band[-4:],\n",
    "                        options=options)\n",
    "    outBand= None"
   ]
  },
  {
   "cell_type": "code",
   "execution_count": null,
   "id": "7f6a787e",
   "metadata": {},
   "outputs": [],
   "source": []
  },
  {
   "cell_type": "code",
   "execution_count": null,
   "id": "df16980d",
   "metadata": {},
   "outputs": [],
   "source": []
  },
  {
   "cell_type": "code",
   "execution_count": null,
   "id": "6768a78f",
   "metadata": {},
   "outputs": [],
   "source": []
  },
  {
   "cell_type": "code",
   "execution_count": null,
   "id": "99066c6b",
   "metadata": {},
   "outputs": [],
   "source": []
  },
  {
   "cell_type": "code",
   "execution_count": 85,
   "id": "6666e9ae",
   "metadata": {},
   "outputs": [],
   "source": []
  },
  {
   "cell_type": "code",
   "execution_count": null,
   "id": "f39b1c10",
   "metadata": {},
   "outputs": [],
   "source": []
  },
  {
   "cell_type": "code",
   "execution_count": null,
   "id": "76064b79",
   "metadata": {},
   "outputs": [],
   "source": []
  }
 ],
 "metadata": {
  "kernelspec": {
   "display_name": "Python 3 (ipykernel)",
   "language": "python",
   "name": "python3"
  },
  "language_info": {
   "codemirror_mode": {
    "name": "ipython",
    "version": 3
   },
   "file_extension": ".py",
   "mimetype": "text/x-python",
   "name": "python",
   "nbconvert_exporter": "python",
   "pygments_lexer": "ipython3",
   "version": "3.9.7"
  }
 },
 "nbformat": 4,
 "nbformat_minor": 5
}
